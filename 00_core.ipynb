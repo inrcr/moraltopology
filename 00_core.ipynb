{
 "cells": [
  {
   "cell_type": "code",
   "execution_count": null,
   "metadata": {},
   "outputs": [
    {
     "name": "stdout",
     "output_type": "stream",
     "text": [
      "The autoreload extension is already loaded. To reload it, use:\n",
      "  %reload_ext autoreload\n"
     ]
    }
   ],
   "source": [
    "#hide\n",
    "%load_ext autoreload\n",
    "%autoreload 2"
   ]
  },
  {
   "cell_type": "code",
   "execution_count": null,
   "metadata": {},
   "outputs": [],
   "source": [
    "# default_exp core"
   ]
  },
  {
   "cell_type": "markdown",
   "metadata": {},
   "source": [
    "# moraltopology\n",
    "\n",
    "> A library to model moral topology and the data pipeline around it"
   ]
  },
  {
   "cell_type": "code",
   "execution_count": null,
   "metadata": {},
   "outputs": [],
   "source": [
    "#hide\n",
    "from nbdev.showdoc import *\n",
    "from fastcore.test import *"
   ]
  },
  {
   "cell_type": "markdown",
   "metadata": {},
   "source": [
    "## MoralTopology"
   ]
  },
  {
   "cell_type": "markdown",
   "metadata": {},
   "source": [
    "The *MoralTopology* class instantiates a MoralTopology object. As an example, the class currently takes the user's name and some data and stores it in its own public variables. The `username` method returns the user's name."
   ]
  },
  {
   "cell_type": "code",
   "execution_count": null,
   "metadata": {},
   "outputs": [],
   "source": [
    "#export\n",
    "class MoralTopology:\n",
    "    \"MoralTopology class\"\n",
    "    def __init__(self, name, data):\n",
    "        self.data = data\n",
    "        self.name = name\n",
    "    \n",
    "    def username(self):\n",
    "        return self.name"
   ]
  },
  {
   "cell_type": "code",
   "execution_count": null,
   "metadata": {},
   "outputs": [],
   "source": [
    "mt = MoralTopology(\"Vishal Bakshi\", {})\n",
    "test_eq(mt.username(), \"Vishal Bakshi\")"
   ]
  },
  {
   "cell_type": "markdown",
   "metadata": {},
   "source": [
    "## Labeller"
   ]
  },
  {
   "cell_type": "markdown",
   "metadata": {},
   "source": [
    "The *Labeller* widget provides a GUI for users to label their data."
   ]
  },
  {
   "cell_type": "code",
   "execution_count": null,
   "metadata": {},
   "outputs": [],
   "source": [
    "#export\n",
    "from PIL import Image, ImageShow\n",
    "import ipywidgets as widgets\n",
    "import io"
   ]
  },
  {
   "cell_type": "code",
   "execution_count": null,
   "metadata": {},
   "outputs": [
    {
     "data": {
      "image/png": "[encoded data removed]",
      "text/plain": [
       "<PIL.Image.Image image mode=RGB size=224x244 at 0x1171E3790>"
      ]
     },
     "metadata": {},
     "output_type": "display_data"
    }
   ],
   "source": [
    "im = Image.new('RGB', (224,244), 0)\n",
    "display(im)\n",
    "#im = Image(filename='/path/to/image')"
   ]
  },
  {
   "cell_type": "code",
   "execution_count": null,
   "metadata": {},
   "outputs": [
    {
     "data": {
      "application/vnd.jupyter.widget-view+json": {
       "model_id": "2985f88acf4a40619834397e6cd9c232",
       "version_major": 2,
       "version_minor": 0
      },
      "text/plain": [
       "VBox(children=(Label(value='Upload an image and add labels!'), FileUpload(value={}, description='Upload'), Out…"
      ]
     },
     "metadata": {},
     "output_type": "display_data"
    }
   ],
   "source": [
    "#export\n",
    "# https://github.com/fastai/fastai1/blob/master/fastai/widgets/image_cleaner.py#L217\n",
    "# wrap in class, take in a data with images, text, audio folders\n",
    "btn_upload = widgets.FileUpload()\n",
    "btn_submit = widgets.Button(description=\"Label it\")\n",
    "out_pl = widgets.Output()\n",
    "data_name = widgets.Text(placeholder=\"Enter a title or name for this data\")\n",
    "data_label = widgets.Text(placeholder=\"Enter a comma seperated list of labels\")\n",
    "dataset = []\n",
    "\n",
    "def on_click_upload(change):\n",
    "    img = Image.open(io.BytesIO(btn_upload.data[-1]))\n",
    "    out_pl.clear_output()\n",
    "    with out_pl: display(img) \n",
    "        \n",
    "def on_submit(change):\n",
    "    img = Image.open(io.BytesIO(btn_upload.data[-1]))\n",
    "    label = data_label.value\n",
    "    name = data_name.value\n",
    "    data = {'data': img, 'name': name, 'label': label.split(\",\") }\n",
    "    print(data['name'])\n",
    "    print(data['label'])\n",
    "    \n",
    "btn_upload.observe(on_click_upload, names=['data'])\n",
    "btn_submit.on_click(on_submit)\n",
    "widgets.VBox([widgets.Label('Upload an image and add labels!'), \n",
    "      btn_upload,out_pl, data_name, data_label, btn_submit])"
   ]
  },
  {
   "cell_type": "code",
   "execution_count": null,
   "metadata": {},
   "outputs": [],
   "source": [
    "#hide\n",
    "# Black Square\n",
    "# calm, quiet, night, peace, void, silence, gravity"
   ]
  },
  {
   "cell_type": "code",
   "execution_count": null,
   "metadata": {},
   "outputs": [
    {
     "name": "stdout",
     "output_type": "stream",
     "text": [
      "Converted 00_core.ipynb.\n",
      "Converted index.ipynb.\n"
     ]
    }
   ],
   "source": [
    "#hide\n",
    "from nbdev.export import notebook2script; notebook2script()"
   ]
  }
 ],
 "metadata": {
  "kernelspec": {
   "display_name": "Python 3",
   "language": "python",
   "name": "python3"
  }
 },
 "nbformat": 4,
 "nbformat_minor": 2
}
